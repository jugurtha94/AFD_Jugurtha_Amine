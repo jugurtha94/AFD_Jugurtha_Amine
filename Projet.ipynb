{
 "cells": [
  {
   "cell_type": "markdown",
   "metadata": {},
   "source": [
    "# Importation des bibliothèques nécessaires"
   ]
  },
  {
   "cell_type": "code",
   "execution_count": 14,
   "metadata": {
    "collapsed": true
   },
   "outputs": [],
   "source": [
    "%matplotlib inline\n",
    "import numpy as np\n",
    "from scipy.stats import mode\n",
    "import matplotlib.pyplot as plt\n",
    "from sklearn.utils import shuffle"
   ]
  },
  {
   "cell_type": "markdown",
   "metadata": {},
   "source": [
    "# Chargement du fichier de données"
   ]
  },
  {
   "cell_type": "code",
   "execution_count": 15,
   "metadata": {
    "collapsed": false
   },
   "outputs": [
    {
     "data": {
      "text/html": [
       "<div>\n",
       "<table border=\"1\" class=\"dataframe\">\n",
       "  <thead>\n",
       "    <tr style=\"text-align: right;\">\n",
       "      <th></th>\n",
       "      <th>fulltext</th>\n",
       "      <th>sentences</th>\n",
       "      <th>words</th>\n",
       "      <th>letters.all</th>\n",
       "      <th>syllables</th>\n",
       "      <th>punct</th>\n",
       "      <th>avg.sentc.length</th>\n",
       "      <th>avg.word.length</th>\n",
       "      <th>avg.syll.word</th>\n",
       "      <th>sntc.per.word</th>\n",
       "      <th>...</th>\n",
       "      <th>Maas lgV0</th>\n",
       "      <th>MATTR</th>\n",
       "      <th>MSTTR</th>\n",
       "      <th>MTLD</th>\n",
       "      <th>Root TTR</th>\n",
       "      <th>Summer</th>\n",
       "      <th>TTR.1</th>\n",
       "      <th>Uber index</th>\n",
       "      <th>Yule's K</th>\n",
       "      <th>level1</th>\n",
       "    </tr>\n",
       "  </thead>\n",
       "  <tbody>\n",
       "    <tr>\n",
       "      <th>0</th>\n",
       "      <td>\\r\\r\\n      The Eiffel Tower The Eiffel Tower ...</td>\n",
       "      <td>16</td>\n",
       "      <td>233</td>\n",
       "      <td>1116</td>\n",
       "      <td>363</td>\n",
       "      <td>32</td>\n",
       "      <td>14.562500</td>\n",
       "      <td>4.789700</td>\n",
       "      <td>1.557940</td>\n",
       "      <td>0.068670</td>\n",
       "      <td>...</td>\n",
       "      <td>4.96</td>\n",
       "      <td>0.72</td>\n",
       "      <td>0.70</td>\n",
       "      <td>70.74</td>\n",
       "      <td>8.98</td>\n",
       "      <td>0.88</td>\n",
       "      <td>0.59</td>\n",
       "      <td>24.30</td>\n",
       "      <td>146.62</td>\n",
       "      <td>C2</td>\n",
       "    </tr>\n",
       "    <tr>\n",
       "      <th>1</th>\n",
       "      <td>\\r\\r\\n      The Court Green burglar arrested A...</td>\n",
       "      <td>7</td>\n",
       "      <td>180</td>\n",
       "      <td>866</td>\n",
       "      <td>268</td>\n",
       "      <td>18</td>\n",
       "      <td>25.714286</td>\n",
       "      <td>4.811111</td>\n",
       "      <td>1.488889</td>\n",
       "      <td>0.038889</td>\n",
       "      <td>...</td>\n",
       "      <td>5.07</td>\n",
       "      <td>0.74</td>\n",
       "      <td>0.76</td>\n",
       "      <td>107.12</td>\n",
       "      <td>8.57</td>\n",
       "      <td>0.89</td>\n",
       "      <td>0.64</td>\n",
       "      <td>26.14</td>\n",
       "      <td>141.98</td>\n",
       "      <td>C2</td>\n",
       "    </tr>\n",
       "    <tr>\n",
       "      <th>2</th>\n",
       "      <td>\\r\\r\\n      Thank you for giving us the opport...</td>\n",
       "      <td>10</td>\n",
       "      <td>180</td>\n",
       "      <td>861</td>\n",
       "      <td>269</td>\n",
       "      <td>20</td>\n",
       "      <td>18.000000</td>\n",
       "      <td>4.783333</td>\n",
       "      <td>1.494444</td>\n",
       "      <td>0.055556</td>\n",
       "      <td>...</td>\n",
       "      <td>5.99</td>\n",
       "      <td>0.77</td>\n",
       "      <td>0.78</td>\n",
       "      <td>161.93</td>\n",
       "      <td>9.62</td>\n",
       "      <td>0.92</td>\n",
       "      <td>0.72</td>\n",
       "      <td>35.15</td>\n",
       "      <td>62.96</td>\n",
       "      <td>C2</td>\n",
       "    </tr>\n",
       "    <tr>\n",
       "      <th>3</th>\n",
       "      <td>\\r\\r\\n      The international AI conference ca...</td>\n",
       "      <td>10</td>\n",
       "      <td>180</td>\n",
       "      <td>872</td>\n",
       "      <td>281</td>\n",
       "      <td>20</td>\n",
       "      <td>18.000000</td>\n",
       "      <td>4.844444</td>\n",
       "      <td>1.561111</td>\n",
       "      <td>0.055556</td>\n",
       "      <td>...</td>\n",
       "      <td>5.49</td>\n",
       "      <td>0.77</td>\n",
       "      <td>0.81</td>\n",
       "      <td>141.10</td>\n",
       "      <td>9.09</td>\n",
       "      <td>0.90</td>\n",
       "      <td>0.68</td>\n",
       "      <td>30.11</td>\n",
       "      <td>70.99</td>\n",
       "      <td>C2</td>\n",
       "    </tr>\n",
       "    <tr>\n",
       "      <th>4</th>\n",
       "      <td>\\r\\r\\n      I believe that the creative writin...</td>\n",
       "      <td>11</td>\n",
       "      <td>187</td>\n",
       "      <td>849</td>\n",
       "      <td>283</td>\n",
       "      <td>29</td>\n",
       "      <td>17.000000</td>\n",
       "      <td>4.540107</td>\n",
       "      <td>1.513369</td>\n",
       "      <td>0.058824</td>\n",
       "      <td>...</td>\n",
       "      <td>4.61</td>\n",
       "      <td>0.68</td>\n",
       "      <td>0.64</td>\n",
       "      <td>70.69</td>\n",
       "      <td>7.97</td>\n",
       "      <td>0.87</td>\n",
       "      <td>0.58</td>\n",
       "      <td>22.02</td>\n",
       "      <td>124.11</td>\n",
       "      <td>C2</td>\n",
       "    </tr>\n",
       "  </tbody>\n",
       "</table>\n",
       "<p>5 rows × 60 columns</p>\n",
       "</div>"
      ],
      "text/plain": [
       "                                            fulltext  sentences  words  \\\n",
       "0  \\r\\r\\n      The Eiffel Tower The Eiffel Tower ...         16    233   \n",
       "1  \\r\\r\\n      The Court Green burglar arrested A...          7    180   \n",
       "2  \\r\\r\\n      Thank you for giving us the opport...         10    180   \n",
       "3  \\r\\r\\n      The international AI conference ca...         10    180   \n",
       "4  \\r\\r\\n      I believe that the creative writin...         11    187   \n",
       "\n",
       "   letters.all  syllables  punct  avg.sentc.length  avg.word.length  \\\n",
       "0         1116        363     32         14.562500         4.789700   \n",
       "1          866        268     18         25.714286         4.811111   \n",
       "2          861        269     20         18.000000         4.783333   \n",
       "3          872        281     20         18.000000         4.844444   \n",
       "4          849        283     29         17.000000         4.540107   \n",
       "\n",
       "   avg.syll.word  sntc.per.word   ...    Maas lgV0  MATTR  MSTTR    MTLD  \\\n",
       "0       1.557940       0.068670   ...         4.96   0.72   0.70   70.74   \n",
       "1       1.488889       0.038889   ...         5.07   0.74   0.76  107.12   \n",
       "2       1.494444       0.055556   ...         5.99   0.77   0.78  161.93   \n",
       "3       1.561111       0.055556   ...         5.49   0.77   0.81  141.10   \n",
       "4       1.513369       0.058824   ...         4.61   0.68   0.64   70.69   \n",
       "\n",
       "   Root TTR  Summer  TTR.1  Uber index  Yule's K  level1  \n",
       "0      8.98    0.88   0.59       24.30    146.62      C2  \n",
       "1      8.57    0.89   0.64       26.14    141.98      C2  \n",
       "2      9.62    0.92   0.72       35.15     62.96      C2  \n",
       "3      9.09    0.90   0.68       30.11     70.99      C2  \n",
       "4      7.97    0.87   0.58       22.02    124.11      C2  \n",
       "\n",
       "[5 rows x 60 columns]"
      ]
     },
     "execution_count": 15,
     "metadata": {},
     "output_type": "execute_result"
    }
   ],
   "source": [
    "import pandas\n",
    "data = pandas.read_csv( \"train_cap2018.csv\")\n",
    "data.head()\n"
   ]
  },
  {
   "cell_type": "code",
   "execution_count": 16,
   "metadata": {
    "collapsed": true
   },
   "outputs": [],
   "source": [
    "#purification \n",
    "#on remplace tous les nan de la base par des 0.0\n",
    "data=data.fillna(0)"
   ]
  },
  {
   "cell_type": "code",
   "execution_count": 19,
   "metadata": {
    "collapsed": false
   },
   "outputs": [
    {
     "data": {
      "text/plain": [
       "([<matplotlib.patches.Wedge at 0x7f2580f54b00>,\n",
       "  <matplotlib.patches.Wedge at 0x7f2580f63400>,\n",
       "  <matplotlib.patches.Wedge at 0x7f2580f6acc0>,\n",
       "  <matplotlib.patches.Wedge at 0x7f2580efb5c0>,\n",
       "  <matplotlib.patches.Wedge at 0x7f2580f03e80>,\n",
       "  <matplotlib.patches.Wedge at 0x7f2580f14780>],\n",
       " [<matplotlib.text.Text at 0x7f2580f5c8d0>,\n",
       "  <matplotlib.text.Text at 0x7f2580f6a1d0>,\n",
       "  <matplotlib.text.Text at 0x7f2580f74a90>,\n",
       "  <matplotlib.text.Text at 0x7f2580f03390>,\n",
       "  <matplotlib.text.Text at 0x7f2580f0bc50>,\n",
       "  <matplotlib.text.Text at 0x7f2580f1b550>],\n",
       " [<matplotlib.text.Text at 0x7f2580f5ce48>,\n",
       "  <matplotlib.text.Text at 0x7f2580f6a748>,\n",
       "  <matplotlib.text.Text at 0x7f2580efb048>,\n",
       "  <matplotlib.text.Text at 0x7f2580f03908>,\n",
       "  <matplotlib.text.Text at 0x7f2580f14208>,\n",
       "  <matplotlib.text.Text at 0x7f2580f1bac8>])"
      ]
     },
     "execution_count": 19,
     "metadata": {},
     "output_type": "execute_result"
    },
    {
     "data": {
      "image/png": "[encoded data removed]",
      "text/plain": [
       "<matplotlib.figure.Figure at 0x7f2580fe4240>"
      ]
     },
     "metadata": {},
     "output_type": "display_data"
    }
   ],
   "source": [
    "#visualisation\n",
    "m=np.array(data[\"level1\"]) \n",
    "liste=[0,0,0,0,0,0]\n",
    "for i in range(len(m)):\n",
    "    if(m[i]==\"A1\"):\n",
    "        liste[0]+=1\n",
    "    if(m[i]==\"A2\"):\n",
    "        liste[1]+=1\n",
    "    if(m[i]==\"B1\"):\n",
    "        liste[2]+=1\n",
    "    if(m[i]==\"B2\"):\n",
    "        liste[3]+=1\n",
    "    if(m[i]==\"C1\"):\n",
    "        liste[4]+=1\n",
    "    if(m[i]==\"C2\"):\n",
    "        liste[5]+=1\n",
    "\n",
    "explode=[0.10,0,0,0,0,0]\n",
    "origin=[\"A1\",\"A2\",\"B1\",\"B2\",\"C1\",\"C2\"]\n",
    "plt.pie(liste,explode=explode,labels=origin,autopct='%1.1f%%',shadow=True,startangle=90)\n"
   ]
  },
  {
   "cell_type": "code",
   "execution_count": 5,
   "metadata": {
    "collapsed": false
   },
   "outputs": [],
   "source": [
    "\n"
   ]
  },
  {
   "cell_type": "code",
   "execution_count": 21,
   "metadata": {
    "collapsed": false
   },
   "outputs": [
    {
     "name": "stdout",
     "output_type": "stream",
     "text": [
      "[6 6 6 ..., 1 1 1]\n"
     ]
    }
   ],
   "source": [
    "X = data.as_matrix()\n",
    "y = data[['level1']].as_matrix().squeeze()\n",
    "n = y.shape\n",
    "taille=n[0]\n",
    "for i in range(taille): \n",
    "    if(y[i]==\"A1\") :\n",
    "        y[i]=1\n",
    "    if(y[i]==\"A2\") :\n",
    "        y[i]=2\n",
    "    if(y[i]==\"B1\") :\n",
    "        y[i]=3\n",
    "    if(y[i]==\"B2\") :\n",
    "        y[i]=4\n",
    "    if(y[i]==\"C1\") :\n",
    "        y[i]=5\n",
    "    if(y[i]==\"C2\") :\n",
    "        y[i]=6\n",
    "print(y)\n",
    "y = y.astype(np.float)"
   ]
  },
  {
   "cell_type": "markdown",
   "metadata": {},
   "source": [
    "On retire la première colonne correspondant au full-text et la dernière colonne correspondant à l'étiquette\n",
    "Normalisation des données numériques en divisant par l'écart-type"
   ]
  },
  {
   "cell_type": "code",
   "execution_count": 22,
   "metadata": {
    "collapsed": false
   },
   "outputs": [
    {
     "name": "stdout",
     "output_type": "stream",
     "text": [
      "[[16 233 1116 ..., 0.59 24.3 146.62]\n",
      " [7 180 866 ..., 0.64 26.14 141.98]\n",
      " [10 180 861 ..., 0.72 35.15 62.96]\n",
      " ..., \n",
      " [2 20 63 ..., 0.9 36.99 100.0]\n",
      " [5 27 107 ..., 0.85 29.42 137.17]\n",
      " [1 38 174 ..., 0.71 16.82 221.61]]\n"
     ]
    }
   ],
   "source": [
    "X = np.delete(X, len(X[0])-1, 1) # 1 ==> supprimer la 45ème collone, si ct 2=> supprimer la 45ème ligne\n",
    "X = np.delete(X, 0, 1)\n",
    "#X=X.astype(np.float)\n",
    "print(X)\n",
    "\n"
   ]
  },
  {
   "cell_type": "markdown",
   "metadata": {},
   "source": [
    "On calcule les plus proches voisins"
   ]
  },
  {
   "cell_type": "code",
   "execution_count": 23,
   "metadata": {
    "collapsed": false
   },
   "outputs": [
    {
     "data": {
      "text/plain": [
       "False"
      ]
     },
     "execution_count": 23,
     "metadata": {},
     "output_type": "execute_result"
    }
   ],
   "source": [
    "from sklearn.neighbors import NearestNeighbors,KNeighborsClassifier\n",
    "np.isnan(X[0].any())#and gets False\n",
    "np.isnan(y[0].any())\n",
    "#np.isfinite(X.all()) #and gets True"
   ]
  },
  {
   "cell_type": "code",
   "execution_count": 24,
   "metadata": {
    "collapsed": false
   },
   "outputs": [
    {
     "name": "stdout",
     "output_type": "stream",
     "text": [
      "prediction pour les cinq premiers exemples de X =  [ 6.  6.  6.  6.  6.  6.  6.  6.  6.  6.]\n"
     ]
    }
   ],
   "source": [
    "# Créeons un `classifieur` qui calculera les 3 plus proches voisins d'un nouveau points\n",
    "# en prenant des voisins parmi tous les exemples de X\n",
    "classifieur = KNeighborsClassifier(n_neighbors=3).fit(X[:10],y[:10])\n",
    "# Calcul de la prédiction pour les tuples de la matrice\n",
    "print('prediction pour les cinq premiers exemples de X = ',classifieur.predict(X[:10]))"
   ]
  },
  {
   "cell_type": "markdown",
   "metadata": {},
   "source": [
    "# Fonction qui renvoit l'erreur empirique"
   ]
  },
  {
   "cell_type": "code",
   "execution_count": 25,
   "metadata": {
    "collapsed": false
   },
   "outputs": [
    {
     "name": "stdout",
     "output_type": "stream",
     "text": [
      "0\n"
     ]
    },
    {
     "data": {
      "text/plain": [
       "0"
      ]
     },
     "execution_count": 25,
     "metadata": {},
     "output_type": "execute_result"
    }
   ],
   "source": [
    "def calcul_erreur_empirique(X,y,k) :\n",
    "    classifieur = KNeighborsClassifier(n_neighbors=k).fit(X,y)\n",
    "    d = np.sum((classifieur.predict(X)!=y).astype(int))\n",
    "    print(d)\n",
    "    return d\n",
    "calcul_erreur_empirique(X[:10],y[:10],3)\n"
   ]
  },
  {
   "cell_type": "code",
   "execution_count": 26,
   "metadata": {
    "collapsed": true
   },
   "outputs": [],
   "source": [
    "def calcule_erreur(X_train,y_train,X_test,y_test,k) :\n",
    "    classifieur = KNeighborsClassifier(n_neighbors=k).fit(X_train,y_train)\n",
    "    calcul_erreur_empirique(X_test,y_test,k)"
   ]
  },
  {
   "cell_type": "markdown",
   "metadata": {},
   "source": [
    "# Application de la régression linéaire"
   ]
  },
  {
   "cell_type": "code",
   "execution_count": 27,
   "metadata": {
    "collapsed": false
   },
   "outputs": [
    {
     "ename": "TypeError",
     "evalue": "ufunc 'subtract' output (typecode 'O') could not be coerced to provided output parameter (typecode 'd') according to the casting rule ''same_kind''",
     "output_type": "error",
     "traceback": [
      "\u001b[0;31m---------------------------------------------------------------------------\u001b[0m",
      "\u001b[0;31mTypeError\u001b[0m                                 Traceback (most recent call last)",
      "\u001b[0;32m<ipython-input-27-7adb3e5365b8>\u001b[0m in \u001b[0;36m<module>\u001b[0;34m()\u001b[0m\n\u001b[1;32m     35\u001b[0m         \u001b[0mtheta\u001b[0m \u001b[0;34m=\u001b[0m \u001b[0mgradient_l1\u001b[0m\u001b[0;34m(\u001b[0m\u001b[0mtheta\u001b[0m\u001b[0;34m,\u001b[0m\u001b[0malpha\u001b[0m\u001b[0;34m,\u001b[0m\u001b[0mlambd\u001b[0m\u001b[0;34m)\u001b[0m\u001b[0;34m\u001b[0m\u001b[0m\n\u001b[1;32m     36\u001b[0m     \u001b[0;32mreturn\u001b[0m \u001b[0mtheta\u001b[0m\u001b[0;34m\u001b[0m\u001b[0m\n\u001b[0;32m---> 37\u001b[0;31m \u001b[0mreg_lineaire\u001b[0m\u001b[0;34m(\u001b[0m\u001b[0mX\u001b[0m\u001b[0;34m,\u001b[0m\u001b[0my\u001b[0m\u001b[0;34m,\u001b[0m\u001b[0;36m1\u001b[0m\u001b[0;34m,\u001b[0m\u001b[0;36m1\u001b[0m\u001b[0;34m)\u001b[0m\u001b[0;34m\u001b[0m\u001b[0m\n\u001b[0m",
      "\u001b[0;32m<ipython-input-27-7adb3e5365b8>\u001b[0m in \u001b[0;36mreg_lineaire\u001b[0;34m(X, y, alpha, lambd)\u001b[0m\n\u001b[1;32m     32\u001b[0m         \u001b[0;31m#print(theta)\u001b[0m\u001b[0;34m\u001b[0m\u001b[0;34m\u001b[0m\u001b[0m\n\u001b[1;32m     33\u001b[0m         \u001b[0;31m#theta -= alpha*xi*(h-yi)+alpha*lambd*np.sign(theta)\u001b[0m\u001b[0;34m\u001b[0m\u001b[0;34m\u001b[0m\u001b[0m\n\u001b[0;32m---> 34\u001b[0;31m         \u001b[0mtheta\u001b[0m \u001b[0;34m-=\u001b[0m \u001b[0malpha\u001b[0m\u001b[0;34m*\u001b[0m\u001b[0mxi\u001b[0m\u001b[0;34m*\u001b[0m\u001b[0;34m(\u001b[0m\u001b[0mh\u001b[0m\u001b[0;34m-\u001b[0m\u001b[0myi\u001b[0m\u001b[0;34m)\u001b[0m\u001b[0;34m\u001b[0m\u001b[0m\n\u001b[0m\u001b[1;32m     35\u001b[0m         \u001b[0mtheta\u001b[0m \u001b[0;34m=\u001b[0m \u001b[0mgradient_l1\u001b[0m\u001b[0;34m(\u001b[0m\u001b[0mtheta\u001b[0m\u001b[0;34m,\u001b[0m\u001b[0malpha\u001b[0m\u001b[0;34m,\u001b[0m\u001b[0mlambd\u001b[0m\u001b[0;34m)\u001b[0m\u001b[0;34m\u001b[0m\u001b[0m\n\u001b[1;32m     36\u001b[0m     \u001b[0;32mreturn\u001b[0m \u001b[0mtheta\u001b[0m\u001b[0;34m\u001b[0m\u001b[0m\n",
      "\u001b[0;31mTypeError\u001b[0m: ufunc 'subtract' output (typecode 'O') could not be coerced to provided output parameter (typecode 'd') according to the casting rule ''same_kind''"
     ]
    }
   ],
   "source": [
    "import random\n",
    "\n",
    "def g(z):\n",
    "    \"Numerically stable sigmoid function.\"\n",
    "    if z >= 0:\n",
    "        ez = np.exp(-z)\n",
    "        return 1 / (1 + ez)\n",
    "    else:\n",
    "        # if x is less than zero then z will be small, denom can't be\n",
    "        # zero because it's 1+z.\n",
    "        ez = np.exp(z)\n",
    "        return ez / (1 + ez)\n",
    "\n",
    "\n",
    "\n",
    "\n",
    "def reg_lineaire(X,y,alpha,lambd):\n",
    "    def gradient_l1(t,alpha,lambd):\n",
    "        t2 = t - alpha*lambd*np.sign(t)\n",
    "        t2[np.sign(t) != np.sign(t2)] = 0\n",
    "        return t2\n",
    "    \n",
    "    n,d = X.shape\n",
    "    theta = np.zeros(d)\n",
    "\n",
    "    for t in range(1000):\n",
    "\n",
    "        i = random.randint(0,n-1)\n",
    "        xi = X[i]\n",
    "        yi = y[i]\n",
    "        h = g(np.dot( theta , xi ))\n",
    "        #print(theta)\n",
    "        #theta -= alpha*xi*(h-yi)+alpha*lambd*np.sign(theta)\n",
    "        theta -= alpha*xi*(h-yi)\n",
    "        theta = gradient_l1(theta,alpha,lambd)\n",
    "    return theta\n",
    "reg_lineaire(X,y,1,1)"
   ]
  },
  {
   "cell_type": "markdown",
   "metadata": {},
   "source": [
    "# Application de la regression logistique"
   ]
  },
  {
   "cell_type": "code",
   "execution_count": 13,
   "metadata": {
    "collapsed": true
   },
   "outputs": [],
   "source": [
    "def reg_lineaire(X,y,alpha,lambd):\n",
    "    def gradient_l1(t,alpha,lambd):\n",
    "        t2 = t - alpha*lambd*np.sign(t)\n",
    "        t2[np.sign(t) != np.sign(t2)] = 0\n",
    "        return t2\n",
    "    \n",
    "    n,d = X.shape\n",
    "    theta = np.zeros(d)\n",
    "\n",
    "    for t in range(1000):\n",
    "\n",
    "        i = random.randint(0,n-1)\n",
    "        xi = X[i]\n",
    "        yi = y[i]\n",
    "        h = g(np.dot( theta , xi ))\n",
    "        #print(theta)\n",
    "        #theta -= alpha*xi*(h-yi)+alpha*lambd*np.sign(theta)\n",
    "        theta -= alpha*xi*(h-yi)\n",
    "        theta = gradient_l1(theta,alpha,lambd)\n",
    "    return theta\n",
    "\n"
   ]
  }
 ],
 "metadata": {
  "kernelspec": {
   "display_name": "Python 3",
   "language": "python",
   "name": "python3"
  },
  "language_info": {
   "codemirror_mode": {
    "name": "ipython",
    "version": 3
   },
   "file_extension": ".py",
   "mimetype": "text/x-python",
   "name": "python",
   "nbconvert_exporter": "python",
   "pygments_lexer": "ipython3",
   "version": "3.6.0"
  }
 },
 "nbformat": 4,
 "nbformat_minor": 2
}
