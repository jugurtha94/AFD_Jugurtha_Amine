{
 "cells": [
  {
   "cell_type": "markdown",
   "metadata": {},
   "source": [
    "# Importation des bibliothèques nécessaires"
   ]
  },
  {
   "cell_type": "code",
   "execution_count": 14,
   "metadata": {
    "collapsed": true
   },
   "outputs": [],
   "source": [
    "%matplotlib inline\n",
    "import numpy as np\n",
    "from scipy.stats import mode\n",
    "import matplotlib.pyplot as plt\n",
    "from sklearn.utils import shuffle"
   ]
  },
  {
   "cell_type": "markdown",
   "metadata": {},
   "source": [
    "# Chargement du fichier de données"
   ]
  },
  {
   "cell_type": "code",
   "execution_count": 2,
   "metadata": {
    "collapsed": false
   },
   "outputs": [],
   "source": [
    "import pandas\n",
    "data = pandas.read_csv( \"train_cap2018.csv\")\n",
    "data.head()\n",
    "result=data[\"level1\"]"
   ]
  },
  {
   "cell_type": "code",
   "execution_count": 3,
   "metadata": {
    "collapsed": true
   },
   "outputs": [],
   "source": [
    "#purification \n",
    "#on remplace tous les nan de la base par des 0.0\n",
    "data=data.fillna(0)"
   ]
  },
  {
   "cell_type": "code",
   "execution_count": 4,
   "metadata": {
    "collapsed": false
   },
   "outputs": [
    {
     "data": {
      "text/plain": [
       "([<matplotlib.patches.Wedge at 0x7f799380f978>,\n",
       "  <matplotlib.patches.Wedge at 0x7f799382a278>,\n",
       "  <matplotlib.patches.Wedge at 0x7f79937b3b38>,\n",
       "  <matplotlib.patches.Wedge at 0x7f79937c4438>,\n",
       "  <matplotlib.patches.Wedge at 0x7f79937cccf8>,\n",
       "  <matplotlib.patches.Wedge at 0x7f79937b55f8>],\n",
       " [<matplotlib.text.Text at 0x7f799381d748>,\n",
       "  <matplotlib.text.Text at 0x7f79937b3048>,\n",
       "  <matplotlib.text.Text at 0x7f79937bb908>,\n",
       "  <matplotlib.text.Text at 0x7f79937cc208>,\n",
       "  <matplotlib.text.Text at 0x7f79937d4ac8>,\n",
       "  <matplotlib.text.Text at 0x7f79937e33c8>],\n",
       " [<matplotlib.text.Text at 0x7f799381dcc0>,\n",
       "  <matplotlib.text.Text at 0x7f79937b35c0>,\n",
       "  <matplotlib.text.Text at 0x7f79937bbe80>,\n",
       "  <matplotlib.text.Text at 0x7f79937cc780>,\n",
       "  <matplotlib.text.Text at 0x7f79937b5080>,\n",
       "  <matplotlib.text.Text at 0x7f79937e3940>])"
      ]
     },
     "execution_count": 4,
     "metadata": {},
     "output_type": "execute_result"
    },
    {
     "data": {
      "image/png": "[encoded data removed]",
      "text/plain": [
       "<matplotlib.figure.Figure at 0x7f7992dd3c88>"
      ]
     },
     "metadata": {},
     "output_type": "display_data"
    }
   ],
   "source": [
    "#visualisation\n",
    "m=np.array(data[\"level1\"]) \n",
    "liste=[0,0,0,0,0,0]\n",
    "for i in range(len(m)):\n",
    "    if(m[i]==\"A1\"):\n",
    "        liste[0]+=1\n",
    "    if(m[i]==\"A2\"):\n",
    "        liste[1]+=1\n",
    "    if(m[i]==\"B1\"):\n",
    "        liste[2]+=1\n",
    "    if(m[i]==\"B2\"):\n",
    "        liste[3]+=1\n",
    "    if(m[i]==\"C1\"):\n",
    "        liste[4]+=1\n",
    "    if(m[i]==\"C2\"):\n",
    "        liste[5]+=1\n",
    "\n",
    "explode=[0.10,0,0,0,0,0]\n",
    "origin=[\"A1\",\"A2\",\"B1\",\"B2\",\"C1\",\"C2\"]\n",
    "plt.pie(liste,explode=explode,labels=origin,autopct='%1.1f%%',shadow=True,startangle=90)\n"
   ]
  },
  {
   "cell_type": "markdown",
   "metadata": {
    "collapsed": false
   },
   "source": [
    "## remarque\n",
    "on remarque que le nombre des personnes ayant le niveau C2 est très faible, ce nombre augmente de plus en plus qu'on s'éloigne du niveau le plus élevé\n"
   ]
  },
  {
   "cell_type": "code",
   "execution_count": 5,
   "metadata": {
    "collapsed": false
   },
   "outputs": [
    {
     "name": "stdout",
     "output_type": "stream",
     "text": [
      "[6 6 6 ..., 1 1 1]\n"
     ]
    }
   ],
   "source": [
    "X = data.as_matrix()\n",
    "y = data[['level1']].as_matrix().squeeze()\n",
    "n = y.shape\n",
    "taille=n[0]\n",
    "for i in range(taille): \n",
    "    if(y[i]==\"A1\") :\n",
    "        y[i]=1\n",
    "    if(y[i]==\"A2\") :\n",
    "        y[i]=2\n",
    "    if(y[i]==\"B1\") :\n",
    "        y[i]=3\n",
    "    if(y[i]==\"B2\") :\n",
    "        y[i]=4\n",
    "    if(y[i]==\"C1\") :\n",
    "        y[i]=5\n",
    "    if(y[i]==\"C2\") :\n",
    "        y[i]=6\n",
    "print(y)\n",
    "y = y.astype(np.float)"
   ]
  },
  {
   "cell_type": "markdown",
   "metadata": {},
   "source": [
    "On retire la première colonne correspondant au full-text et la dernière colonne correspondant à l'étiquette\n",
    "Normalisation des données numériques en divisant par l'écart-type"
   ]
  },
  {
   "cell_type": "code",
   "execution_count": 6,
   "metadata": {
    "collapsed": false
   },
   "outputs": [
    {
     "name": "stdout",
     "output_type": "stream",
     "text": [
      "[[16 233 1116 ..., 0.59 24.3 146.62]\n",
      " [7 180 866 ..., 0.64 26.14 141.98]\n",
      " [10 180 861 ..., 0.72 35.15 62.96]\n",
      " ..., \n",
      " [2 20 63 ..., 0.9 36.99 100.0]\n",
      " [5 27 107 ..., 0.85 29.42 137.17]\n",
      " [1 38 174 ..., 0.71 16.82 221.61]]\n"
     ]
    }
   ],
   "source": [
    "X = np.delete(X, len(X[0])-1, 1) # 1 ==> supprimer la 45ème collone, si ct 2=> supprimer la 45ème ligne\n",
    "X = np.delete(X, 0, 1)\n",
    "#X=X.astype(np.float)\n",
    "print(X)\n",
    "\n"
   ]
  },
  {
   "cell_type": "markdown",
   "metadata": {},
   "source": [
    "On calcule les plus proches voisins"
   ]
  },
  {
   "cell_type": "code",
   "execution_count": 7,
   "metadata": {
    "collapsed": false
   },
   "outputs": [
    {
     "data": {
      "text/plain": [
       "False"
      ]
     },
     "execution_count": 7,
     "metadata": {},
     "output_type": "execute_result"
    }
   ],
   "source": [
    "from sklearn.neighbors import NearestNeighbors,KNeighborsClassifier\n",
    "np.isnan(X[0].any())#and gets False\n",
    "np.isnan(y[0].any())\n",
    "#np.isfinite(X.all()) #and gets True"
   ]
  },
  {
   "cell_type": "code",
   "execution_count": 8,
   "metadata": {
    "collapsed": false
   },
   "outputs": [
    {
     "name": "stdout",
     "output_type": "stream",
     "text": [
      "prediction pour les dix premiers exemples avec k=10 est de X =  [ 6.  6.  6.  6.  6.  6.  6.  6.  6.  6.]\n"
     ]
    }
   ],
   "source": [
    "# Créeons un `classifieur` qui calculera les 3 plus proches voisins d'un nouveau points\n",
    "# en prenant des voisins parmi tous les exemples de X\n",
    "classifieur = KNeighborsClassifier(n_neighbors=10).fit(X[:10],y[:10])\n",
    "# Calcul de la prédiction pour les tuples de la matrice\n",
    "print('prediction pour les dix premiers exemples avec k=10 est de X = ',classifieur.predict(X[:10]))"
   ]
  },
  {
   "cell_type": "markdown",
   "metadata": {},
   "source": [
    "### Explication\n",
    "le classifieur a bien prédit que les 10 premières personnes présentes dans la base ont un niveau A2 avec comme nombre des plus proches voisins = 10"
   ]
  },
  {
   "cell_type": "markdown",
   "metadata": {},
   "source": [
    "### quels arguments influent plus sur le résultat ?\n"
   ]
  },
  {
   "cell_type": "code",
   "execution_count": 42,
   "metadata": {
    "collapsed": false
   },
   "outputs": [
    {
     "name": "stdout",
     "output_type": "stream",
     "text": [
      "[ 6.  6.  6. ...,  1.  1.  1.]\n"
     ]
    },
    {
     "data": {
      "image/png": "[encoded data removed]",
      "text/plain": [
       "<matplotlib.figure.Figure at 0x7f798bf98240>"
      ]
     },
     "metadata": {},
     "output_type": "display_data"
    }
   ],
   "source": [
    "print(y)\n",
    "fig= plt.subplots(figsize=(15, 8))\n",
    "level=pandas.DataFrame(y)\n",
    "level[0].plot(color='red', label='level')\n",
    "plt.legend(loc='best');\n",
    "plt.show()"
   ]
  },
  {
   "cell_type": "code",
   "execution_count": 46,
   "metadata": {
    "collapsed": false
   },
   "outputs": [
    {
     "name": "stdout",
     "output_type": "stream",
     "text": [
      "[ 6.  6.  6. ...,  1.  1.  1.]\n"
     ]
    },
    {
     "data": {
      "image/png": "[encoded data removed]",
      "text/plain": [
       "<matplotlib.figure.Figure at 0x7f798b955b00>"
      ]
     },
     "metadata": {},
     "output_type": "display_data"
    }
   ],
   "source": [
    "print(y)\n",
    "fig= plt.subplots(figsize=(15, 8))\n",
    "data[\"TTR\"].plot(color='red', label='TTR')\n",
    "plt.legend(loc='best');\n",
    "plt.show()"
   ]
  },
  {
   "cell_type": "markdown",
   "metadata": {},
   "source": [
    "#### pour comprendre l'impact d'un attribut sur le résultat final, on doit centrer les valeurs, on utilisera pour ça des valeurs centrées réduites"
   ]
  },
  {
   "cell_type": "code",
   "execution_count": 67,
   "metadata": {
    "collapsed": false
   },
   "outputs": [
    {
     "name": "stdout",
     "output_type": "stream",
     "text": [
      "moyenne : 69.5915781765 longueur: 27310\n"
     ]
    },
    {
     "data": {
      "text/plain": [
       "array([ 1735.98046368])"
      ]
     },
     "execution_count": 67,
     "metadata": {},
     "output_type": "execute_result"
    }
   ],
   "source": [
    "def variance(dataframe,colonne):\n",
    "    tab=dataframe[colonne].as_matrix()\n",
    "    moyenne=np.mean(tab)\n",
    "    taille=len(dataframe)\n",
    "    print(\"moyenne :\",moyenne, \"longueur:\",taille)\n",
    "    result=0\n",
    "    for i in range(taille):\n",
    "        inter=(tab[i]-moyenne)**2\n",
    "        result+=inter \n",
    "    return result/n    \n",
    "variance(data,\"words\")"
   ]
  },
  {
   "cell_type": "code",
   "execution_count": 75,
   "metadata": {
    "collapsed": false
   },
   "outputs": [
    {
     "name": "stdout",
     "output_type": "stream",
     "text": [
      "moyenne : 69.5915781765 longueur: 27310\n"
     ]
    },
    {
     "data": {
      "text/plain": [
       "array([ 41.66509887])"
      ]
     },
     "execution_count": 75,
     "metadata": {},
     "output_type": "execute_result"
    }
   ],
   "source": [
    "def ecart_type(dataframe,colonne):\n",
    "    return np.sqrt(variance(dataframe,colonne))\n",
    "ecart_type(data,\"words\")"
   ]
  },
  {
   "cell_type": "code",
   "execution_count": 90,
   "metadata": {
    "collapsed": false
   },
   "outputs": [
    {
     "name": "stdout",
     "output_type": "stream",
     "text": [
      "[6 6 6 ..., 1 1 1]\n",
      "\n",
      "[233 180 180 ...,  20  27  38]\n",
      "moyenne : 69.5915781765 longueur: 27310\n"
     ]
    },
    {
     "ename": "TypeError",
     "evalue": "unsupported operand type(s) for /: 'str' and 'int'",
     "output_type": "error",
     "traceback": [
      "\u001b[0;31m---------------------------------------------------------------------------\u001b[0m",
      "\u001b[0;31mTypeError\u001b[0m                                 Traceback (most recent call last)",
      "\u001b[0;32m<ipython-input-90-6cb4d8b9fdbd>\u001b[0m in \u001b[0;36m<module>\u001b[0;34m()\u001b[0m\n\u001b[1;32m     21\u001b[0m     \u001b[0;32mreturn\u001b[0m \u001b[0;34m(\u001b[0m\u001b[0msomme\u001b[0m\u001b[0;34m-\u001b[0m\u001b[0;34m(\u001b[0m\u001b[0mtaille\u001b[0m\u001b[0;34m*\u001b[0m\u001b[0;34m(\u001b[0m\u001b[0mmoyenneX\u001b[0m\u001b[0;34m*\u001b[0m\u001b[0mmoyenneY\u001b[0m\u001b[0;34m)\u001b[0m\u001b[0;34m)\u001b[0m\u001b[0;34m)\u001b[0m\u001b[0;34m/\u001b[0m\u001b[0;34m(\u001b[0m\u001b[0;34m(\u001b[0m\u001b[0mtaille\u001b[0m\u001b[0;34m-\u001b[0m\u001b[0;36m1\u001b[0m\u001b[0;34m)\u001b[0m\u001b[0;34m*\u001b[0m\u001b[0msx\u001b[0m\u001b[0;34m*\u001b[0m\u001b[0msy\u001b[0m\u001b[0;34m)\u001b[0m\u001b[0;34m\u001b[0m\u001b[0m\n\u001b[1;32m     22\u001b[0m \u001b[0;34m\u001b[0m\u001b[0m\n\u001b[0;32m---> 23\u001b[0;31m \u001b[0mprint\u001b[0m\u001b[0;34m(\u001b[0m\u001b[0mcoeff_corelation\u001b[0m\u001b[0;34m(\u001b[0m\u001b[0mdata\u001b[0m\u001b[0;34m,\u001b[0m\u001b[0;34m\"words\"\u001b[0m\u001b[0;34m,\u001b[0m\u001b[0;34m\"level1\"\u001b[0m\u001b[0;34m)\u001b[0m\u001b[0;34m)\u001b[0m\u001b[0;34m\u001b[0m\u001b[0m\n\u001b[0m",
      "\u001b[0;32m<ipython-input-90-6cb4d8b9fdbd>\u001b[0m in \u001b[0;36mcoeff_corelation\u001b[0;34m(dataframe, colonnex, colonney)\u001b[0m\n\u001b[1;32m     14\u001b[0m     \u001b[0msomme\u001b[0m\u001b[0;34m=\u001b[0m\u001b[0;36m0\u001b[0m\u001b[0;34m\u001b[0m\u001b[0m\n\u001b[1;32m     15\u001b[0m     \u001b[0msx\u001b[0m\u001b[0;34m=\u001b[0m\u001b[0mnp\u001b[0m\u001b[0;34m.\u001b[0m\u001b[0msqrt\u001b[0m\u001b[0;34m(\u001b[0m\u001b[0mvariance\u001b[0m\u001b[0;34m(\u001b[0m\u001b[0mdataframe\u001b[0m\u001b[0;34m,\u001b[0m\u001b[0mcolonnex\u001b[0m\u001b[0;34m)\u001b[0m\u001b[0;34m)\u001b[0m\u001b[0;34m\u001b[0m\u001b[0m\n\u001b[0;32m---> 16\u001b[0;31m     \u001b[0msy\u001b[0m\u001b[0;34m=\u001b[0m\u001b[0mnp\u001b[0m\u001b[0;34m.\u001b[0m\u001b[0msqrt\u001b[0m\u001b[0;34m(\u001b[0m\u001b[0mvariance\u001b[0m\u001b[0;34m(\u001b[0m\u001b[0mdataframe\u001b[0m\u001b[0;34m,\u001b[0m\u001b[0mcolonney\u001b[0m\u001b[0;34m)\u001b[0m\u001b[0;34m)\u001b[0m\u001b[0;34m\u001b[0m\u001b[0m\n\u001b[0m\u001b[1;32m     17\u001b[0m \u001b[0;34m\u001b[0m\u001b[0m\n\u001b[1;32m     18\u001b[0m \u001b[0;34m\u001b[0m\u001b[0m\n",
      "\u001b[0;32m<ipython-input-67-d3eafbb3fc54>\u001b[0m in \u001b[0;36mvariance\u001b[0;34m(dataframe, colonne)\u001b[0m\n\u001b[1;32m      1\u001b[0m \u001b[0;32mdef\u001b[0m \u001b[0mvariance\u001b[0m\u001b[0;34m(\u001b[0m\u001b[0mdataframe\u001b[0m\u001b[0;34m,\u001b[0m\u001b[0mcolonne\u001b[0m\u001b[0;34m)\u001b[0m\u001b[0;34m:\u001b[0m\u001b[0;34m\u001b[0m\u001b[0m\n\u001b[1;32m      2\u001b[0m     \u001b[0mtab\u001b[0m\u001b[0;34m=\u001b[0m\u001b[0mdataframe\u001b[0m\u001b[0;34m[\u001b[0m\u001b[0mcolonne\u001b[0m\u001b[0;34m]\u001b[0m\u001b[0;34m.\u001b[0m\u001b[0mas_matrix\u001b[0m\u001b[0;34m(\u001b[0m\u001b[0;34m)\u001b[0m\u001b[0;34m\u001b[0m\u001b[0m\n\u001b[0;32m----> 3\u001b[0;31m     \u001b[0mmoyenne\u001b[0m\u001b[0;34m=\u001b[0m\u001b[0mnp\u001b[0m\u001b[0;34m.\u001b[0m\u001b[0mmean\u001b[0m\u001b[0;34m(\u001b[0m\u001b[0mtab\u001b[0m\u001b[0;34m)\u001b[0m\u001b[0;34m\u001b[0m\u001b[0m\n\u001b[0m\u001b[1;32m      4\u001b[0m     \u001b[0mtaille\u001b[0m\u001b[0;34m=\u001b[0m\u001b[0mlen\u001b[0m\u001b[0;34m(\u001b[0m\u001b[0mdataframe\u001b[0m\u001b[0;34m)\u001b[0m\u001b[0;34m\u001b[0m\u001b[0m\n\u001b[1;32m      5\u001b[0m     \u001b[0mprint\u001b[0m\u001b[0;34m(\u001b[0m\u001b[0;34m\"moyenne :\"\u001b[0m\u001b[0;34m,\u001b[0m\u001b[0mmoyenne\u001b[0m\u001b[0;34m,\u001b[0m \u001b[0;34m\"longueur:\"\u001b[0m\u001b[0;34m,\u001b[0m\u001b[0mtaille\u001b[0m\u001b[0;34m)\u001b[0m\u001b[0;34m\u001b[0m\u001b[0m\n",
      "\u001b[0;32m/home/jugurtha/anaconda3/lib/python3.6/site-packages/numpy/core/fromnumeric.py\u001b[0m in \u001b[0;36mmean\u001b[0;34m(a, axis, dtype, out, keepdims)\u001b[0m\n\u001b[1;32m   2940\u001b[0m \u001b[0;34m\u001b[0m\u001b[0m\n\u001b[1;32m   2941\u001b[0m     return _methods._mean(a, axis=axis, dtype=dtype,\n\u001b[0;32m-> 2942\u001b[0;31m                             out=out, **kwargs)\n\u001b[0m\u001b[1;32m   2943\u001b[0m \u001b[0;34m\u001b[0m\u001b[0m\n\u001b[1;32m   2944\u001b[0m \u001b[0;34m\u001b[0m\u001b[0m\n",
      "\u001b[0;32m/home/jugurtha/anaconda3/lib/python3.6/site-packages/numpy/core/_methods.py\u001b[0m in \u001b[0;36m_mean\u001b[0;34m(a, axis, dtype, out, keepdims)\u001b[0m\n\u001b[1;32m     70\u001b[0m         \u001b[0mret\u001b[0m \u001b[0;34m=\u001b[0m \u001b[0mret\u001b[0m\u001b[0;34m.\u001b[0m\u001b[0mdtype\u001b[0m\u001b[0;34m.\u001b[0m\u001b[0mtype\u001b[0m\u001b[0;34m(\u001b[0m\u001b[0mret\u001b[0m \u001b[0;34m/\u001b[0m \u001b[0mrcount\u001b[0m\u001b[0;34m)\u001b[0m\u001b[0;34m\u001b[0m\u001b[0m\n\u001b[1;32m     71\u001b[0m     \u001b[0;32melse\u001b[0m\u001b[0;34m:\u001b[0m\u001b[0;34m\u001b[0m\u001b[0m\n\u001b[0;32m---> 72\u001b[0;31m         \u001b[0mret\u001b[0m \u001b[0;34m=\u001b[0m \u001b[0mret\u001b[0m \u001b[0;34m/\u001b[0m \u001b[0mrcount\u001b[0m\u001b[0;34m\u001b[0m\u001b[0m\n\u001b[0m\u001b[1;32m     73\u001b[0m \u001b[0;34m\u001b[0m\u001b[0m\n\u001b[1;32m     74\u001b[0m     \u001b[0;32mreturn\u001b[0m \u001b[0mret\u001b[0m\u001b[0;34m\u001b[0m\u001b[0m\n",
      "\u001b[0;31mTypeError\u001b[0m: unsupported operand type(s) for /: 'str' and 'int'"
     ]
    }
   ],
   "source": [
    "def centre_red(var,moyenne,ecart):\n",
    "    return (var-moyenne)/ecart\n",
    "\n",
    "\n",
    "def coeff_corelation(dataframe,colonnex,colonney):\n",
    "    tabx=dataframe[colonnex].as_matrix()\n",
    "    taby=y.astype(np.int)\n",
    "    \n",
    "    moyenneX=np.mean(tabx)\n",
    "    moyenneY=np.mean(y)\n",
    "    \n",
    "    print()\n",
    "    print(tabx)\n",
    "    taille=len(tabx)\n",
    "    somme=0\n",
    "    sx=np.sqrt(variance(dataframe,colonnex))\n",
    "    sy=np.sqrt(variance(dataframe,colonney))\n",
    "    \n",
    "    \n",
    "    for i in range (len(tabx)):\n",
    "        somme+=tabx[i]*taby[i]\n",
    "    return (somme-(taille*(moyenneX*moyenneY)))/((taille-1)*sx*sy) \n",
    "\n",
    "print(coeff_corelation(data,\"words\",\"level1\"))"
   ]
  },
  {
   "cell_type": "markdown",
   "metadata": {},
   "source": [
    "# Fonction qui renvoit l'erreur empirique"
   ]
  },
  {
   "cell_type": "code",
   "execution_count": null,
   "metadata": {
    "collapsed": false
   },
   "outputs": [],
   "source": [
    "def calcul_erreur_empirique(X,y,k) :\n",
    "    classifieur = KNeighborsClassifier(n_neighbors=k).fit(X,y)\n",
    "    d = np.sum((classifieur.predict(X)!=y).astype(int))\n",
    "    print(d)\n",
    "    return d\n",
    "calcul_erreur_empirique(X[:10],y[:10],3)\n"
   ]
  },
  {
   "cell_type": "code",
   "execution_count": null,
   "metadata": {
    "collapsed": true
   },
   "outputs": [],
   "source": [
    "def calcule_erreur(X_train,y_train,X_test,y_test,k) :\n",
    "    classifieur = KNeighborsClassifier(n_neighbors=k).fit(X_train,y_train)\n",
    "    calcul_erreur_empirique(X_test,y_test,k)"
   ]
  },
  {
   "cell_type": "markdown",
   "metadata": {},
   "source": [
    "# Application de la régression linéaire"
   ]
  },
  {
   "cell_type": "code",
   "execution_count": null,
   "metadata": {
    "collapsed": false
   },
   "outputs": [],
   "source": [
    "import random\n",
    "\n",
    "def g(z):\n",
    "    \"Numerically stable sigmoid function.\"\n",
    "    if z >= 0:\n",
    "        ez = np.exp(-z)\n",
    "        return 1 / (1 + ez)\n",
    "    else:\n",
    "        # if x is less than zero then z will be small, denom can't be\n",
    "        # zero because it's 1+z.\n",
    "        ez = np.exp(z)\n",
    "        return ez / (1 + ez)\n",
    "\n",
    "\n",
    "\n",
    "\n",
    "def reg_lineaire(X,y,alpha,lambd):\n",
    "    def gradient_l1(t,alpha,lambd):\n",
    "        t2 = t - alpha*lambd*np.sign(t)\n",
    "        t2[np.sign(t) != np.sign(t2)] = 0\n",
    "        return t2\n",
    "    \n",
    "    n,d = X.shape\n",
    "    theta = np.zeros(d)\n",
    "\n",
    "    for t in range(1000):\n",
    "\n",
    "        i = random.randint(0,n-1)\n",
    "        xi = X[i]\n",
    "        yi = y[i]\n",
    "        h = g(np.dot( theta , xi ))\n",
    "        #print(theta)\n",
    "        #theta -= alpha*xi*(h-yi)+alpha*lambd*np.sign(theta)\n",
    "        theta -= alpha*xi*(h-yi)\n",
    "        theta = gradient_l1(theta,alpha,lambd)\n",
    "    return theta\n",
    "reg_lineaire(X,y,1,1)"
   ]
  },
  {
   "cell_type": "markdown",
   "metadata": {},
   "source": [
    "# Application de la regression logistique"
   ]
  },
  {
   "cell_type": "code",
   "execution_count": null,
   "metadata": {
    "collapsed": true
   },
   "outputs": [],
   "source": [
    "def reg_lineaire(X,y,alpha,lambd):\n",
    "    def gradient_l1(t,alpha,lambd):\n",
    "        t2 = t - alpha*lambd*np.sign(t)\n",
    "        t2[np.sign(t) != np.sign(t2)] = 0\n",
    "        return t2\n",
    "    \n",
    "    n,d = X.shape\n",
    "    theta = np.zeros(d)\n",
    "\n",
    "    for t in range(1000):\n",
    "\n",
    "        i = random.randint(0,n-1)\n",
    "        xi = X[i]\n",
    "        yi = y[i]\n",
    "        h = g(np.dot( theta , xi ))\n",
    "        #print(theta)\n",
    "        #theta -= alpha*xi*(h-yi)+alpha*lambd*np.sign(theta)\n",
    "        theta -= alpha*xi*(h-yi)\n",
    "        theta = gradient_l1(theta,alpha,lambd)\n",
    "    return theta\n",
    "\n"
   ]
  }
 ],
 "metadata": {
  "kernelspec": {
   "display_name": "Python 3",
   "language": "python",
   "name": "python3"
  },
  "language_info": {
   "codemirror_mode": {
    "name": "ipython",
    "version": 3
   },
   "file_extension": ".py",
   "mimetype": "text/x-python",
   "name": "python",
   "nbconvert_exporter": "python",
   "pygments_lexer": "ipython3",
   "version": "3.6.0"
  }
 },
 "nbformat": 4,
 "nbformat_minor": 2
}
